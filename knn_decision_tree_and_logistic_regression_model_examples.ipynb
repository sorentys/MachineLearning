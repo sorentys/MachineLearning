{
  "nbformat": 4,
  "nbformat_minor": 0,
  "metadata": {
    "colab": {
      "provenance": [],
      "include_colab_link": true
    },
    "kernelspec": {
      "name": "python3",
      "display_name": "Python 3"
    },
    "language_info": {
      "name": "python"
    }
  },
  "cells": [
    {
      "cell_type": "markdown",
      "metadata": {
        "id": "view-in-github",
        "colab_type": "text"
      },
      "source": [
        "<a href=\"https://colab.research.google.com/github/sorentys/MachineLearning/blob/main/knn_decision_tree_and_logistic_regression_model_examples.ipynb\" target=\"_parent\"><img src=\"https://colab.research.google.com/assets/colab-badge.svg\" alt=\"Open In Colab\"/></a>"
      ]
    },
    {
      "cell_type": "markdown",
      "source": [
        "<a href=\"https://colab.research.google.com/github/porterjenkins/CS180/blob/main/data_science_labs/data_science_lab_11.ipynb\" target=\"_parent\"><img src=\"https://colab.research.google.com/assets/colab-badge.svg\" alt=\"Open In Colab\"/></a><p><b>After clicking the \"Open in Colab\" link, copy the notebook to your own Google Drive before getting started, or it will not save your work</b></p>"
      ],
      "metadata": {
        "id": "IPir_6bCCFnZ"
      }
    },
    {
      "cell_type": "markdown",
      "source": [
        "# BYU CS 180 Lab 11"
      ],
      "metadata": {
        "id": "_slaQdUGCB0t"
      }
    },
    {
      "cell_type": "code",
      "source": [
        "# Dependencies for the lab\n",
        "import numpy as np\n",
        "import matplotlib.pyplot as plt\n",
        "import pandas as pd\n",
        "import sklearn\n",
        "import seaborn as sns"
      ],
      "metadata": {
        "id": "Gaema31vjP8f"
      },
      "execution_count": null,
      "outputs": []
    },
    {
      "cell_type": "markdown",
      "source": [
        "## Introduction:\n",
        "You will use the `sklearn` API to train various classifiers. Feel free to use any `sklearn`, `numpy`, or `pandas` function to help you with the lab.\n",
        "\n",
        "The 20 newsgroups dataset comprises around 18000 newsgroups posts on 20 topics. The 20 categories are:\n",
        "```\n",
        "['alt.atheism',\n",
        " 'comp.graphics',\n",
        " 'comp.os.ms-windows.misc',\n",
        " 'comp.sys.ibm.pc.hardware',\n",
        " 'comp.sys.mac.hardware',\n",
        " 'comp.windows.x',\n",
        " 'misc.forsale',\n",
        " 'rec.autos',\n",
        " 'rec.motorcycles',\n",
        " 'rec.sport.baseball',\n",
        " 'rec.sport.hockey',\n",
        " 'sci.crypt',\n",
        " 'sci.electronics',\n",
        " 'sci.med',\n",
        " 'sci.space',\n",
        " 'soc.religion.christian',\n",
        " 'talk.politics.guns',\n",
        " 'talk.politics.mideast',\n",
        " 'talk.politics.misc',\n",
        " 'talk.religion.misc']\n",
        "```\n",
        "The posts are raw text. For example:\n",
        "\n",
        "**Post:**\n",
        "```\n",
        "From: lerxst@wam.umd.edu (where's my thing)\n",
        "Subject: WHAT car is this!?\n",
        "Nntp-Posting-Host: rac3.wam.umd.edu\n",
        "Organization: University of Maryland, College Park\n",
        "Lines: 15\n",
        "\n",
        " I was wondering if anyone out there could enlighten me on this car I saw\n",
        "the other day. It was a 2-door sports car, looked to be from the late 60s/\n",
        "early 70s. It was called a Bricklin. The doors were really small. In addition,\n",
        "the front bumper was separate from the rest of the body. This is \n",
        "all I know. If anyone can tellme a model name, engine specs, years\n",
        "of production, where this car is made, history, or whatever info you\n",
        "have on this funky looking car, please e-mail.\n",
        "\n",
        "Thanks,\n",
        "- IL\n",
        "   ---- brought to you by your neighborhood Lerxst ----\n",
        "```\n",
        "\n",
        "**Target:**\n",
        "```\n",
        "'rec.autos'\n",
        "```\n",
        "\n",
        "Your task will be to build a classifier to predict the category of posts. You will do the following in this notebook:"
      ],
      "metadata": {
        "id": "ct7fnkcnCL8O"
      }
    },
    {
      "cell_type": "markdown",
      "source": [
        "## Exercise 1: Retrieve the Data\n",
        "Download `fetch_20newsgroups` dataset"
      ],
      "metadata": {
        "id": "PUat5xRAcdrC"
      }
    },
    {
      "cell_type": "code",
      "source": [
        "from sklearn.datasets import fetch_20newsgroups\n",
        "data = fetch_20newsgroups()\n",
        "docs = data['data']\n",
        "targets = data[\"target\"]\n",
        "names = data.target_names"
      ],
      "metadata": {
        "id": "j1m2KIHShNdC"
      },
      "execution_count": null,
      "outputs": []
    },
    {
      "cell_type": "markdown",
      "source": [
        "Print off the first document and its target classification to make sure its been downloaded correctly "
      ],
      "metadata": {
        "id": "BXDLQKs3hUM8"
      }
    },
    {
      "cell_type": "code",
      "source": [
        "#Enter code here.\n",
        "print(docs[0])\n",
        "print(names[targets[0]])"
      ],
      "metadata": {
        "id": "-hfFbcRohgMf",
        "colab": {
          "base_uri": "https://localhost:8080/"
        },
        "outputId": "91440c5e-e417-4ab6-ec19-8242e20f9acb"
      },
      "execution_count": null,
      "outputs": [
        {
          "output_type": "stream",
          "name": "stdout",
          "text": [
            "From: lerxst@wam.umd.edu (where's my thing)\n",
            "Subject: WHAT car is this!?\n",
            "Nntp-Posting-Host: rac3.wam.umd.edu\n",
            "Organization: University of Maryland, College Park\n",
            "Lines: 15\n",
            "\n",
            " I was wondering if anyone out there could enlighten me on this car I saw\n",
            "the other day. It was a 2-door sports car, looked to be from the late 60s/\n",
            "early 70s. It was called a Bricklin. The doors were really small. In addition,\n",
            "the front bumper was separate from the rest of the body. This is \n",
            "all I know. If anyone can tellme a model name, engine specs, years\n",
            "of production, where this car is made, history, or whatever info you\n",
            "have on this funky looking car, please e-mail.\n",
            "\n",
            "Thanks,\n",
            "- IL\n",
            "   ---- brought to you by your neighborhood Lerxst ----\n",
            "\n",
            "\n",
            "\n",
            "\n",
            "\n",
            "rec.autos\n"
          ]
        }
      ]
    },
    {
      "cell_type": "markdown",
      "source": [
        "## Exercise 2: Understand the Data"
      ],
      "metadata": {
        "id": "RSUun4WVcl17"
      }
    },
    {
      "cell_type": "markdown",
      "source": [
        "Perform some exploratory analysis on your data. Specifically, plot a bar chart showing distribution of the categories (classes)"
      ],
      "metadata": {
        "id": "xJZbee3ihnqV"
      }
    },
    {
      "cell_type": "code",
      "source": [
        "#Enter code here\n",
        "plot = sns.countplot(x=targets)\n",
        "plot.set_xlabel('Targets')\n"
      ],
      "metadata": {
        "id": "veGuUMbEhj5-",
        "colab": {
          "base_uri": "https://localhost:8080/",
          "height": 467
        },
        "outputId": "1feabfea-4dc9-4e01-c02d-2794d151c8e8"
      },
      "execution_count": null,
      "outputs": [
        {
          "output_type": "execute_result",
          "data": {
            "text/plain": [
              "Text(0.5, 0, 'Targets')"
            ]
          },
          "metadata": {},
          "execution_count": 13
        },
        {
          "output_type": "display_data",
          "data": {
            "text/plain": [
              "<Figure size 640x480 with 1 Axes>"
            ],
            "image/png": "[encoded data removed]"
          },
          "metadata": {}
        }
      ]
    },
    {
      "cell_type": "markdown",
      "source": [
        "## Exercise 3: Engineer the Data\n",
        "Extract features from raw text. You are free to be creative here. There is no correct answer. Try and think of the features (input) that are most predictive of the category. Some helpful sklearn feature engineering code can be found here (I'd recommend reading through the documentation before diving in and trying to get these tools to work):\n",
        "\n",
        "* [CountVectorizer](https://scikit-learn.org/stable/modules/generated/sklearn.feature_extraction.text.CountVectorizer.html#sklearn.feature_extraction.text.CountVectorizer)\n",
        "* [TFIDF Text Features](https://scikit-learn.org/stable/modules/generated/sklearn.feature_extraction.text.TfidfVectorizer.html)"
      ],
      "metadata": {
        "id": "CBmTXeqpcq5W"
      }
    },
    {
      "cell_type": "code",
      "source": [
        "#Enter code here to engineer the data\n",
        "from sklearn.feature_extraction.text import CountVectorizer\n",
        "count_vector = CountVectorizer(max_features=50000)\n",
        "fit_data = count_vector.fit_transform(docs)"
      ],
      "metadata": {
        "id": "M18gziAZifj0"
      },
      "execution_count": null,
      "outputs": []
    },
    {
      "cell_type": "markdown",
      "source": [
        "## Exercise 4: Split the Data\n",
        "\n",
        "Split your data into train and test splits. Use an 80%/20% split rule for train and test respectively. I'd recommend using the function from the last lab"
      ],
      "metadata": {
        "id": "JN4r2NSpc5hQ"
      }
    },
    {
      "cell_type": "code",
      "source": [
        "#Enter code here to split the dataset\n",
        "from sklearn.model_selection import train_test_split\n",
        "x_train, x_test, y_train, y_test = train_test_split(fit_data, targets, test_size=.2)\n",
        "print(x_test.shape)"
      ],
      "metadata": {
        "id": "C6uiqrStkxww",
        "colab": {
          "base_uri": "https://localhost:8080/"
        },
        "outputId": "c8e6a180-7d3e-4dd2-c144-b0983d96014c"
      },
      "execution_count": null,
      "outputs": [
        {
          "output_type": "stream",
          "name": "stdout",
          "text": [
            "(2263, 50000)\n"
          ]
        }
      ]
    },
    {
      "cell_type": "markdown",
      "source": [
        "## Exercise 5: Train the Model"
      ],
      "metadata": {
        "id": "eW6QTIUxcz_G"
      }
    },
    {
      "cell_type": "markdown",
      "source": [
        "Using sklearn, train the following three classifiers using the training set:\n",
        "* KNN\n",
        "* Decision Tree\n",
        "* Logistic Regression"
      ],
      "metadata": {
        "id": "mNY2czLak_pA"
      }
    },
    {
      "cell_type": "code",
      "source": [
        "# Train the model using the KNN Cluster Algorithm\n",
        "from sklearn.neighbors import KNeighborsClassifier\n",
        "knn = KNeighborsClassifier(n_neighbors=5)\n",
        "knn = knn.fit(x_train, y_train)"
      ],
      "metadata": {
        "id": "MIaBp38BlEzu"
      },
      "execution_count": null,
      "outputs": []
    },
    {
      "cell_type": "code",
      "source": [
        "# Train the model using the Decision Tree Algorithm\n",
        "from sklearn.tree import DecisionTreeClassifier\n",
        "decision_tree = DecisionTreeClassifier()\n",
        "decision_tree = decision_tree.fit(x_train, y_train)\n"
      ],
      "metadata": {
        "id": "xSINn2VklIH9"
      },
      "execution_count": null,
      "outputs": []
    },
    {
      "cell_type": "code",
      "source": [
        "# Train the model using the Logistic Regression Algorithm\n",
        "from sklearn.linear_model import LogisticRegression\n",
        "log_reg = LogisticRegression()\n",
        "log_reg = log_reg.fit(x_train, y_train)"
      ],
      "metadata": {
        "id": "ZayZjHO1lNXG",
        "colab": {
          "base_uri": "https://localhost:8080/"
        },
        "outputId": "dc04c75d-350d-435c-f5dd-c72cc403c8b6"
      },
      "execution_count": null,
      "outputs": [
        {
          "output_type": "stream",
          "name": "stderr",
          "text": [
            "/usr/local/lib/python3.9/dist-packages/sklearn/linear_model/_logistic.py:458: ConvergenceWarning: lbfgs failed to converge (status=1):\n",
            "STOP: TOTAL NO. of ITERATIONS REACHED LIMIT.\n",
            "\n",
            "Increase the number of iterations (max_iter) or scale the data as shown in:\n",
            "    https://scikit-learn.org/stable/modules/preprocessing.html\n",
            "Please also refer to the documentation for alternative solver options:\n",
            "    https://scikit-learn.org/stable/modules/linear_model.html#logistic-regression\n",
            "  n_iter_i = _check_optimize_result(\n"
          ]
        }
      ]
    },
    {
      "cell_type": "markdown",
      "source": [],
      "metadata": {
        "id": "vIYbe-hBo_AH"
      }
    },
    {
      "cell_type": "markdown",
      "source": [
        "## Exercise 6: Evaluate the Model\n",
        "Compare the performance of your classifiers on the test set. Discuss which one performs the best."
      ],
      "metadata": {
        "id": "gRC3UrQjdOtM"
      }
    },
    {
      "cell_type": "code",
      "source": [
        "# Evaluate the KNN Cluster model\n",
        "from sklearn.metrics import accuracy_score\n",
        "knn_predict = knn.predict(x_test)\n",
        "knn_test_accuracy = accuracy_score(y_test, knn_predict)\n",
        "print(knn_test_accuracy)"
      ],
      "metadata": {
        "id": "fviUlnNZl_Ek",
        "colab": {
          "base_uri": "https://localhost:8080/"
        },
        "outputId": "7e2af632-c39f-418a-c6b8-900ec31a5235"
      },
      "execution_count": null,
      "outputs": [
        {
          "output_type": "stream",
          "name": "stdout",
          "text": [
            "0.48033583738400354\n"
          ]
        }
      ]
    },
    {
      "cell_type": "code",
      "source": [
        "# Evaluate the Decision Tree model\n",
        "decision_predict = decision_tree.predict(x_test)\n",
        "decision_tree_accuracy = accuracy_score(y_test, decision_predict)\n",
        "print(decision_tree_accuracy)"
      ],
      "metadata": {
        "id": "NFysD0Krl9-n",
        "colab": {
          "base_uri": "https://localhost:8080/"
        },
        "outputId": "2a5c1df1-94a5-4508-ffb0-aaf566db9538"
      },
      "execution_count": null,
      "outputs": [
        {
          "output_type": "stream",
          "name": "stdout",
          "text": [
            "0.6403004860804242\n"
          ]
        }
      ]
    },
    {
      "cell_type": "code",
      "source": [
        "# Evaluate the Logistic Regression model\n",
        "log_predict = log_reg.predict(x_test)\n",
        "log_reg_accuracy = accuracy_score(y_test, log_predict)\n",
        "print(log_reg_accuracy)"
      ],
      "metadata": {
        "id": "FVjIpzzxl8E-",
        "colab": {
          "base_uri": "https://localhost:8080/"
        },
        "outputId": "002bfb08-2c84-40eb-a827-e1eccd21ba77"
      },
      "execution_count": null,
      "outputs": [
        {
          "output_type": "stream",
          "name": "stdout",
          "text": [
            "0.8846663720724701\n"
          ]
        }
      ]
    },
    {
      "cell_type": "markdown",
      "source": [
        "Discuss which one performs the best:"
      ],
      "metadata": {
        "id": "ofWWlon9mqUw"
      }
    },
    {
      "cell_type": "markdown",
      "source": [
        "The logistic regression had the best accuracy score."
      ],
      "metadata": {
        "id": "rLE2qUqpmu0P"
      }
    }
  ]
}